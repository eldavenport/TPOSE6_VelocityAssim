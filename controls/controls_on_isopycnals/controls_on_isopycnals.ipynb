{
 "cells": [
  {
   "cell_type": "code",
   "execution_count": null,
   "metadata": {},
   "outputs": [],
   "source": [
    "from dask.distributed import LocalCluster, Client\n",
    "cluster = LocalCluster()\n",
    "client = Client(cluster)\n",
    "client"
   ]
  },
  {
   "cell_type": "code",
   "execution_count": null,
   "metadata": {},
   "outputs": [],
   "source": [
    "import matplotlib.pyplot as plt\n",
    "import cmocean.cm as cmo\n",
    "import xarray as xr\n",
    "import numpy as np\n",
    "from mitgcm_assim.ctrls import load_controls_and_sensitivities\n",
    "\n",
    "# need to think about this -- what's the easiest way to get theta and salt? iter0? or xx_theta.effective and xx_salt.effective?67\n",
    "# it's possible this only makes sense after we have re-run the forward model\n",
    "data_dir = '/data/SO3/edavenport/tpose6/sep2012/iter0/'\n",
    "ctrl_dir = '/data/SO3/edavenport/tpose6/sep2012/run_ad/'\n",
    "grid_dir = '/data/SO6/TPOSE_diags/tpose6/grid_6/'"
   ]
  },
  {
   "cell_type": "code",
   "execution_count": null,
   "metadata": {},
   "outputs": [],
   "source": [
    "# Load all control variables and sensitivities into a Dataset (default is to load all available iters)\n",
    "ds_ctrl = load_controls_and_sensitivities(ctrl_dir, grid_dir)\n",
    "ds_ctrl['XC'] = ds_ctrl.XC.astype(float)\n",
    "ds_ctrl['YC'] = ds_ctrl.YC.astype(float)\n",
    "ds_ctrl['Z'] = ds_ctrl.Z.astype(float)\n",
    "ds_ctrl['XG'] = ds_ctrl.XG.astype(float)\n",
    "ds_ctrl['YG'] = ds_ctrl.YG.astype(float)"
   ]
  },
  {
   "cell_type": "code",
   "execution_count": null,
   "metadata": {},
   "outputs": [],
   "source": [
    "# load tpose data to get T & S fields"
   ]
  },
  {
   "cell_type": "code",
   "execution_count": null,
   "metadata": {},
   "outputs": [],
   "source": []
  },
  {
   "cell_type": "code",
   "execution_count": null,
   "metadata": {},
   "outputs": [],
   "source": []
  },
  {
   "cell_type": "code",
   "execution_count": null,
   "metadata": {},
   "outputs": [],
   "source": [
    "cluster.close()\n",
    "client.shutdown()"
   ]
  },
  {
   "cell_type": "code",
   "execution_count": null,
   "metadata": {},
   "outputs": [],
   "source": [
    "client.close()"
   ]
  }
 ],
 "metadata": {
  "kernelspec": {
   "display_name": "mitgcm_analysis",
   "language": "python",
   "name": "python3"
  },
  "language_info": {
   "codemirror_mode": {
    "name": "ipython",
    "version": 3
   },
   "file_extension": ".py",
   "mimetype": "text/x-python",
   "name": "python",
   "nbconvert_exporter": "python",
   "pygments_lexer": "ipython3",
   "version": "3.12.2"
  }
 },
 "nbformat": 4,
 "nbformat_minor": 2
}
